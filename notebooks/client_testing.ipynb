{
 "cells": [
  {
   "cell_type": "markdown",
   "id": "664eef02",
   "metadata": {},
   "source": [
    "## New "
   ]
  },
  {
   "cell_type": "code",
   "execution_count": 137,
   "id": "723d7eca",
   "metadata": {
    "scrolled": true
   },
   "outputs": [
    {
     "name": "stderr",
     "output_type": "stream",
     "text": [
      "2022-10-13 15:22:46,362 [INFO   ] Found DB at ./databases/default.db, appending!\n",
      "2022-10-13 15:22:46,390 [INFO   ] Received msg [setup]\n",
      "2022-10-13 15:22:46,394 [INFO   ] Received msg [ask]\n",
      "2022-10-13 15:22:46,395 [INFO   ] Received msg [tell]\n",
      "2022-10-13 15:22:46,403 [INFO   ] Received msg [ask]\n",
      "2022-10-13 15:22:46,404 [INFO   ] Received msg [tell]\n",
      "2022-10-13 15:22:46,410 [INFO   ] Received msg [ask]\n",
      "2022-10-13 15:22:46,410 [INFO   ] Received msg [tell]\n",
      "2022-10-13 15:22:46,417 [INFO   ] Received msg [ask]\n",
      "2022-10-13 15:22:46,418 [INFO   ] Received msg [tell]\n",
      "2022-10-13 15:22:46,425 [INFO   ] Received msg [ask]\n",
      "2022-10-13 15:22:46,425 [INFO   ] Received msg [tell]\n",
      "2022-10-13 15:22:46,431 [INFO   ] Received msg [ask]\n",
      "2022-10-13 15:22:46,432 [INFO   ] Received msg [tell]\n",
      "2022-10-13 15:22:46,439 [INFO   ] Received msg [ask]\n",
      "2022-10-13 15:22:46,440 [INFO   ] Received msg [tell]\n",
      "2022-10-13 15:22:46,446 [INFO   ] Received msg [ask]\n",
      "2022-10-13 15:22:46,447 [INFO   ] Received msg [tell]\n"
     ]
    },
    {
     "name": "stdout",
     "output_type": "stream",
     "text": [
      "[0]\n"
     ]
    }
   ],
   "source": [
    "from aepsych.server import AEPsychServer\n",
    "from aepsych_client import AEPsychClient\n",
    "\n",
    "server = AEPsychServer()\n",
    "client = AEPsychClient(server=server)\n",
    "\n",
    "# start server first in Downloads/aepsych\n",
    "# aepsych_server --ip 0.0.0.0 --port 5555 database --db data_collection_analysis_tutorial.db\n",
    "# client = AEPsychClient(ip=\"0.0.0.0\", port=5555)\n",
    "\n",
    "config_str = \"\"\"\n",
    "[common]\n",
    "parnames = [theta] # names of the parameters\n",
    "lb = [0.1] # lower bound of the parameter\n",
    "ub = [5] # upper bound of parameter\n",
    "stimuli_per_trial = 1 # the number of stimuli shown in each trial; 1 for single, or 2 for pairwise experiments\n",
    "outcome_types = [binary] # the type of response given by the participant; can be [binary] or [continuous]\n",
    "target = 0.75 # desired threshold, for threshold estimation.\n",
    "strategy_names = [init_strat, opt_strat] # The strategies that will be used, corresponding to the named sections below\n",
    "\n",
    "# Configuration for the initialization strategy, which we use to gather initial points\n",
    "# before we start doing model-based acquisition\n",
    "[init_strat]\n",
    "min_total_tells = 3 # number of sobol trials to run\n",
    "generator = SobolGenerator # The generator class used to generate new parameter values\n",
    "\n",
    "# Configuration for the optimization strategy, our model-based acquisition\n",
    "[opt_strat]\n",
    "min_total_tells = 5 # total number of trials to run\n",
    "refit_every = 2 # how often to refit the model from scratch\n",
    "generator = OptimizeAcqfGenerator # The generator class used to generate new parameter values\n",
    "acqf = MCLevelSetEstimation # The acquisition function; MCLevelSetEstimation is used for threshold finding\n",
    "model = GPClassificationModel # The model class\n",
    "\"\"\"\n",
    "\n",
    "client.configure(config_str=config_str, config_name=\"config1\") # need to add input for config_name\n",
    "\n",
    "print(client.configs)\n",
    "\n",
    "# exp_ids = [rec.experiment_id for rec in server.db.get_master_records()]\n",
    "# print(\"Exp_ids ==>\",exp_ids)\n",
    "\n",
    "# print(\"Database config list ==> \", [rec for rec in server.db.get_config_for(exp_ids[0])])\n",
    "\n",
    "\n",
    "\n",
    "client.ask()\n",
    "\n",
    "client.tell(config={'theta':[.1]}, outcome=0, target_side='right')\n",
    "\n",
    "client.ask()\n",
    "\n",
    "client.tell(config={'theta':[.1]}, outcome=0, target_side='right')\n",
    "\n",
    "client.ask()\n",
    "\n",
    "client.tell(config={'theta':[.1]}, outcome=0, target_side='right')\n",
    "\n",
    "client.ask()\n",
    "\n",
    "client.tell(config={'theta':[.1]}, outcome=0, target_side='right')\n",
    "\n",
    "client.ask()\n",
    "\n",
    "client.tell(config={'theta':[.1]}, outcome=0, target_side='right')\n",
    "\n",
    "client.ask()\n",
    "\n",
    "client.tell(config={'theta':[.1]}, outcome=0, target_side='right')\n",
    "\n",
    "client.ask()\n",
    "\n",
    "client.tell(config={'theta':[.1]}, outcome=0, target_side='right')\n",
    "\n",
    "client.ask()\n",
    "\n",
    "client.tell(config={'theta':[.1]}, outcome=0, target_side='right')\n",
    "\n",
    "\n"
   ]
  },
  {
   "cell_type": "markdown",
   "id": "6710059c",
   "metadata": {},
   "source": [
    "## Resume "
   ]
  },
  {
   "cell_type": "code",
   "execution_count": 138,
   "id": "34ca3e3b",
   "metadata": {},
   "outputs": [
    {
     "name": "stderr",
     "output_type": "stream",
     "text": [
      "2022-10-13 15:22:46,456 [INFO   ] Found DB at /Users/ecortez/Downloads/aepsych/notebooks/databases/new_db.db, appending!\n"
     ]
    },
    {
     "name": "stdout",
     "output_type": "stream",
     "text": [
      "Exp_ids ==> ['eee0a1fb-f887-4469-9523-35d89af29a93']\n",
      "Database config list ==>  ['common', 'init_strat', 'opt_strat']\n",
      "Client configs==> [] Client configs names {}\n"
     ]
    },
    {
     "ename": "AssertionError",
     "evalue": "No strat with index [] was created!",
     "output_type": "error",
     "traceback": [
      "\u001b[0;31m---------------------------------------------------------------------------\u001b[0m",
      "\u001b[0;31mAssertionError\u001b[0m                            Traceback (most recent call last)",
      "\u001b[0;32m/var/folders/4x/ggl6q8_15s1bbmgxsc48n3fw0000gn/T/ipykernel_50484/1070190363.py\u001b[0m in \u001b[0;36m<module>\u001b[0;34m\u001b[0m\n\u001b[1;32m     17\u001b[0m \u001b[0mprint\u001b[0m\u001b[0;34m(\u001b[0m\u001b[0;34m\"Client configs==>\"\u001b[0m\u001b[0;34m,\u001b[0m \u001b[0mclient\u001b[0m\u001b[0;34m.\u001b[0m\u001b[0mconfigs\u001b[0m\u001b[0;34m,\u001b[0m\u001b[0;34m\"Client configs names\"\u001b[0m\u001b[0;34m,\u001b[0m \u001b[0mclient\u001b[0m\u001b[0;34m.\u001b[0m\u001b[0mconfig_names\u001b[0m\u001b[0;34m)\u001b[0m\u001b[0;34m\u001b[0m\u001b[0;34m\u001b[0m\u001b[0m\n\u001b[1;32m     18\u001b[0m \u001b[0;34m\u001b[0m\u001b[0m\n\u001b[0;32m---> 19\u001b[0;31m \u001b[0mclient\u001b[0m\u001b[0;34m.\u001b[0m\u001b[0mresume\u001b[0m\u001b[0;34m(\u001b[0m\u001b[0mconfig_id\u001b[0m \u001b[0;34m=\u001b[0m \u001b[0mclient\u001b[0m\u001b[0;34m.\u001b[0m\u001b[0mconfigs\u001b[0m\u001b[0;34m)\u001b[0m\u001b[0;34m\u001b[0m\u001b[0;34m\u001b[0m\u001b[0m\n\u001b[0m\u001b[1;32m     20\u001b[0m \u001b[0;34m\u001b[0m\u001b[0m\n\u001b[1;32m     21\u001b[0m \u001b[0;34m\u001b[0m\u001b[0m\n",
      "\u001b[0;32m~/opt/anaconda3/lib/python3.9/site-packages/aepsych_client/client.py\u001b[0m in \u001b[0;36mresume\u001b[0;34m(self, config_id, config_name)\u001b[0m\n\u001b[1;32m    162\u001b[0m         \u001b[0;32mif\u001b[0m \u001b[0mconfig_id\u001b[0m \u001b[0;32mis\u001b[0m \u001b[0;32mnot\u001b[0m \u001b[0;32mNone\u001b[0m\u001b[0;34m:\u001b[0m\u001b[0;34m\u001b[0m\u001b[0;34m\u001b[0m\u001b[0m\n\u001b[1;32m    163\u001b[0m             \u001b[0;32massert\u001b[0m \u001b[0mconfig_name\u001b[0m \u001b[0;32mis\u001b[0m \u001b[0;32mNone\u001b[0m\u001b[0;34m,\u001b[0m \u001b[0;34m\"if config_id is passed, don't pass config_name\"\u001b[0m\u001b[0;34m\u001b[0m\u001b[0;34m\u001b[0m\u001b[0m\n\u001b[0;32m--> 164\u001b[0;31m             assert (\n\u001b[0m\u001b[1;32m    165\u001b[0m                 \u001b[0mconfig_id\u001b[0m \u001b[0;32min\u001b[0m \u001b[0mself\u001b[0m\u001b[0;34m.\u001b[0m\u001b[0mconfigs\u001b[0m\u001b[0;34m\u001b[0m\u001b[0;34m\u001b[0m\u001b[0m\n\u001b[1;32m    166\u001b[0m             ), f\"No strat with index {config_id} was created!\"\n",
      "\u001b[0;31mAssertionError\u001b[0m: No strat with index [] was created!"
     ]
    }
   ],
   "source": [
    "from aepsych.server import AEPsychServer\n",
    "from aepsych_client import AEPsychClient\n",
    "import os\n",
    "# print(os.getcwd())\n",
    "\n",
    "path = os.getcwd() + \"/databases/new_db.db\"\n",
    "# print(path)\n",
    "server = AEPsychServer(database_path=path)\n",
    "client = AEPsychClient(server=server)\n",
    "\n",
    "exp_ids = [rec.experiment_id for rec in server.db.get_master_records()]\n",
    "print(\"Exp_ids ==>\",exp_ids)\n",
    "exp_configs  = [rec for rec in server.db.get_config_for(exp_ids[0])]\n",
    "print(\"Database config list ==> \", exp_configs)\n",
    "\n",
    "\n",
    "print(\"Client configs==>\", client.configs,\"Client configs names\", client.config_names)\n",
    "\n",
    "client.resume(config_id = client.configs)\n",
    "\n",
    "\n"
   ]
  }
 ],
 "metadata": {
  "kernelspec": {
   "display_name": "Python 3 (ipykernel)",
   "language": "python",
   "name": "python3"
  },
  "language_info": {
   "codemirror_mode": {
    "name": "ipython",
    "version": 3
   },
   "file_extension": ".py",
   "mimetype": "text/x-python",
   "name": "python",
   "nbconvert_exporter": "python",
   "pygments_lexer": "ipython3",
   "version": "3.9.13"
  }
 },
 "nbformat": 4,
 "nbformat_minor": 5
}
