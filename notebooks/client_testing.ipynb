{
 "cells": [
  {
   "cell_type": "markdown",
   "id": "2f26c06b",
   "metadata": {},
   "source": [
    "## New "
   ]
  },
  {
   "cell_type": "code",
   "execution_count": 34,
   "id": "723d7eca",
   "metadata": {
    "scrolled": true
   },
   "outputs": [
    {
     "name": "stderr",
     "output_type": "stream",
     "text": [
      "2022-10-13 13:30:40,789 [INFO   ] Found DB at ./databases/default.db, appending!\n"
     ]
    }
   ],
   "source": [
    "from aepsych.server import AEPsychServer\n",
    "from aepsych_client import AEPsychClient\n",
    "\n",
    "server = AEPsychServer()\n",
    "client = AEPsychClient(server=server)\n",
    "\n",
    "# start server first in Downloads/aepsych\n",
    "# aepsych_server --ip 0.0.0.0 --port 5555 database --db data_collection_analysis_tutorial.db\n",
    "client = AEPsychClient(ip=\"0.0.0.0\", port=5555)\n",
    "\n",
    "config_str = \"\"\"\n",
    "[common]\n",
    "parnames = [theta] # names of the parameters\n",
    "lb = [0.1] # lower bound of the parameter\n",
    "ub = [5] # upper bound of parameter\n",
    "stimuli_per_trial = 1 # the number of stimuli shown in each trial; 1 for single, or 2 for pairwise experiments\n",
    "outcome_types = [binary] # the type of response given by the participant; can be [binary] or [continuous]\n",
    "target = 0.75 # desired threshold, for threshold estimation.\n",
    "strategy_names = [init_strat, opt_strat] # The strategies that will be used, corresponding to the named sections below\n",
    "\n",
    "# Configuration for the initialization strategy, which we use to gather initial points\n",
    "# before we start doing model-based acquisition\n",
    "[init_strat]\n",
    "min_total_tells = 10 # number of sobol trials to run\n",
    "generator = SobolGenerator # The generator class used to generate new parameter values\n",
    "\n",
    "# Configuration for the optimization strategy, our model-based acquisition\n",
    "[opt_strat]\n",
    "min_total_tells = 50 # total number of trials to run\n",
    "refit_every = 5 # how often to refit the model from scratch\n",
    "generator = OptimizeAcqfGenerator # The generator class used to generate new parameter values\n",
    "acqf = MCLevelSetEstimation # The acquisition function; MCLevelSetEstimation is used for threshold finding\n",
    "model = GPClassificationModel # The model class\n",
    "\"\"\"\n",
    "\n",
    "client.configure(config_str=config_str, config_name=\"1d_gabor_config\") # need to add input for config_name\n",
    "\n",
    "client.ask()\n",
    "\n",
    "client.tell(config={'theta':[.1]}, outcome=0, target_side='right')"
   ]
  },
  {
   "cell_type": "markdown",
   "id": "2f75a6bd",
   "metadata": {},
   "source": [
    "## Resume "
   ]
  },
  {
   "cell_type": "code",
   "execution_count": 35,
   "id": "970435e4",
   "metadata": {},
   "outputs": [
    {
     "name": "stderr",
     "output_type": "stream",
     "text": [
      "2022-10-13 13:30:40,836 [INFO   ] Found DB at ./databases/default.db, appending!\n",
      "2022-10-13 13:30:40,853 [INFO   ] Received msg [setup]\n",
      "2022-10-13 13:30:40,859 [INFO   ] Received msg [ask]\n",
      "2022-10-13 13:30:40,860 [INFO   ] Received msg [tell]\n"
     ]
    }
   ],
   "source": [
    "from aepsych.server import AEPsychServer\n",
    "from aepsych_client import AEPsychClient\n",
    "import os\n",
    "# print(os.getcwd())\n",
    "\n",
    "path = os.getcwd() + \"/databases/new_db.db\"\n",
    "# print(path)\n",
    "server = AEPsychServer(database_path=path)\n",
    "client = AEPsychClient(server=server)\n",
    "\n",
    "config_str = \"\"\"\n",
    "[common]\n",
    "parnames = [theta] # names of the parameters\n",
    "lb = [0.1] # lower bound of the parameter\n",
    "ub = [5] # upper bound of parameter\n",
    "stimuli_per_trial = 1 # the number of stimuli shown in each trial; 1 for single, or 2 for pairwise experiments\n",
    "outcome_types = [binary] # the type of response given by the participant; can be [binary] or [continuous]\n",
    "target = 0.75 # desired threshold, for threshold estimation.\n",
    "strategy_names = [init_strat, opt_strat] # The strategies that will be used, corresponding to the named sections below\n",
    "\n",
    "# Configuration for the initialization strategy, which we use to gather initial points\n",
    "# before we start doing model-based acquisition\n",
    "[init_strat]\n",
    "min_total_tells = 10 # number of sobol trials to run\n",
    "generator = SobolGenerator # The generator class used to generate new parameter values\n",
    "\n",
    "# Configuration for the optimization strategy, our model-based acquisition\n",
    "[opt_strat]\n",
    "min_total_tells = 50 # total number of trials to run\n",
    "refit_every = 5 # how often to refit the model from scratch\n",
    "generator = OptimizeAcqfGenerator # The generator class used to generate new parameter values\n",
    "acqf = MCLevelSetEstimation # The acquisition function; MCLevelSetEstimation is used for threshold finding\n",
    "model = GPClassificationModel # The model class\n",
    "\"\"\"\n",
    "\n",
    "client.configure(config_str=config_str)\n",
    "\n",
    "client.ask()\n",
    "\n",
    "client.tell(config={'theta':[.1]}, outcome=0, target_side='right')"
   ]
  }
 ],
 "metadata": {
  "kernelspec": {
   "display_name": "Python 3 (ipykernel)",
   "language": "python",
   "name": "python3"
  },
  "language_info": {
   "codemirror_mode": {
    "name": "ipython",
    "version": 3
   },
   "file_extension": ".py",
   "mimetype": "text/x-python",
   "name": "python",
   "nbconvert_exporter": "python",
   "pygments_lexer": "ipython3",
   "version": "3.9.13"
  }
 },
 "nbformat": 4,
 "nbformat_minor": 5
}
